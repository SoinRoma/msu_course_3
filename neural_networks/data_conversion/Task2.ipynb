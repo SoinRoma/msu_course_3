{
 "cells": [
  {
   "cell_type": "markdown",
   "metadata": {
    "collapsed": true,
    "pycharm": {
     "is_executing": false
    }
   },
   "source": [
    "# Введение в Пандас (abbaaa)"
   ]
  },
  {
   "cell_type": "markdown",
   "metadata": {},
   "source": [
    "Структура данных. Данны три таблицы people.csv, cars.csv, appartments.csv со следующей структурой \n"
   ]
  },
  {
   "cell_type": "markdown",
   "metadata": {},
   "source": [
    "1.Обработать пропущенные значения (Удалить строки, содержащие пропуски)\n",
    "Добавить в таблицу столбцы-индикаторы, сигнализирующие где была произведена замена пропущенного значения.\n",
    "Имя столбца индикатора сделать путём прибавления к имени заменяемого столбца суффикса \"_indicator\".\n",
    "Сохранить полученные DataFrame-ы в cvc-файлы без индексов, но с заголовками столбцов с префиксом \"_stage1\"\n",
    "То есть \"people_stage1.cvc\" и так далее."
   ]
  },
  {
   "cell_type": "markdown",
   "metadata": {},
   "source": [
    "2.В таблицу people добавить числовой признак с количеством машин "
   ]
  },
  {
   "cell_type": "markdown",
   "metadata": {},
   "source": [
    "3.Отсортировать таблицу cars, полученную в результате предыдущего пункта следующим образом:\n",
    "По возрасту владельца по возрастанию"
   ]
  },
  {
   "cell_type": "markdown",
   "metadata": {},
   "source": [
    "4.Посчитать среднее количество стоимости имущества (машин и квартир)Посчитать среднее количество для пенсионеров(мужчин старше 60 лет и женщин старше 55)"
   ]
  },
  {
   "cell_type": "markdown",
   "metadata": {},
   "source": [
    "5.Сохранить таблицу максимальных зарплат в зависимости от пола, профессии и марки машины"
   ]
  },
  {
   "cell_type": "code",
   "execution_count": 1,
   "metadata": {
    "pycharm": {
     "is_executing": true
    }
   },
   "outputs": [],
   "source": [
    "# Подключение библиотеки Пандас и Нумпай\n",
    "import pandas as pd\n",
    "import numpy as np"
   ]
  },
  {
   "cell_type": "code",
   "execution_count": 2,
   "metadata": {
    "pycharm": {
     "is_executing": true
    }
   },
   "outputs": [],
   "source": [
    "# 1-Задание\n",
    "\n",
    "# Записываем в переменные Датафреймы\n",
    "people = pd.read_csv(\"people.csv\")\n",
    "cars = pd.read_csv(\"cars.csv\")\n",
    "appartments = pd.read_csv(\"appartments.csv\")\n",
    "\n",
    "# Для таблиы people.csv\n",
    "people_copy1 = people.copy()\n",
    "people_copy1 = people_copy1.loc[people_copy1.ID.notnull()].copy()\n",
    "people_copy1 = people_copy1.loc[people_copy1.Name.notnull()].copy()\n",
    "people_copy1 = people_copy1.loc[people_copy1.Height.notnull()].copy()\n",
    "people_copy1 = people_copy1.loc[people_copy1.Weight.notnull()].copy()\n",
    "people_copy1 = people_copy1.loc[people_copy1.Age.notnull()].copy()\n",
    "people_copy1 = people_copy1.loc[people_copy1.Sex.notnull()].copy()\n",
    "people_copy1 = people_copy1.loc[people_copy1.Profession.notnull()].copy()\n",
    "people_copy1 = people_copy1.loc[people_copy1.Salary.notnull()].copy()\n",
    "\n",
    "people_copy1.to_csv(\"people_stage1.csv\",index = False)\n",
    "\n",
    "\n",
    "# Для таблиы cars.csv\n",
    "cars_copy1 = cars.copy()\n",
    "cars_copy1 = cars_copy1.loc[cars_copy1.ID.notnull()].copy()\n",
    "cars_copy1 = cars_copy1.loc[cars_copy1.ID_person.notnull()].copy()\n",
    "cars_copy1 = cars_copy1.loc[cars_copy1.Model.notnull()].copy()\n",
    "cars_copy1 = cars_copy1.loc[cars_copy1.Power.notnull()].copy()\n",
    "cars_copy1 = cars_copy1.loc[cars_copy1.Price.notnull()].copy()\n",
    "\n",
    "index1 = list()\n",
    "for i in cars_copy1.ID_person.values:\n",
    "    \n",
    "   index1.append(people_copy1[people_copy1[\"ID\"] == i])\n",
    "cars_copy1.insert(5, column = \"Индекс\", value=list(map(lambda x: x.shape[0], index1)))\n",
    "\n",
    "cars_copy1 = cars_copy1.loc[cars_copy1.Индекс == 1]\n",
    "cars_copy1 = cars_copy1.drop('Индекс',1)\n",
    "cars_copy1.to_csv(\"cars_stage1.csv\",index = False)\n",
    "\n",
    "# Для таблиы appartments.csv\n",
    "appartments_copy1 = appartments.copy()\n",
    "appartments_copy1 = appartments_copy1.loc[appartments_copy1.ID.notnull()].copy()\n",
    "appartments_copy1 = appartments_copy1.loc[appartments_copy1.ID_person.notnull()].copy()\n",
    "appartments_copy1 = appartments_copy1.loc[appartments_copy1.Square.notnull()].copy()\n",
    "appartments_copy1 = appartments_copy1.loc[appartments_copy1.Rooms.notnull()].copy()\n",
    "appartments_copy1 = appartments_copy1.loc[appartments_copy1.Price.notnull()].copy()\n",
    "\n",
    "index2 = list()\n",
    "for i in appartments_copy1.ID_person.values:\n",
    "    \n",
    "   index2.append(people_copy1[people_copy1[\"ID\"] == i])\n",
    "appartments_copy1.insert(5, column = \"Индекс\", value=list(map(lambda x: x.shape[0], index2)))\n",
    "\n",
    "appartments_copy1 = appartments_copy1.loc[appartments_copy1.Индекс == 1]\n",
    "appartments_copy1 = appartments_copy1.drop('Индекс',1)\n",
    "appartments_copy1.to_csv(\"appartments_stage1.csv\",index = False)\n"
   ]
  },
  {
   "cell_type": "code",
   "execution_count": 3,
   "metadata": {
    "pycharm": {
     "is_executing": true
    }
   },
   "outputs": [],
   "source": [
    "# 2-Задание\n",
    "\n",
    "# Записываем в переменные Датафреймы полученные из предыдущего пункта\n",
    "people_copy2 = pd.read_csv(\"people_stage1.csv\")\n",
    "cars_copy2 = pd.read_csv(\"cars_stage1.csv\")\n",
    "# Объявляем список в который в цикле будем заполнять количеством машин\n",
    "col_of_cars = list()\n",
    "\n",
    "for i in people_copy2.ID.values:\n",
    "    col_of_cars.append(cars_copy2[cars_copy2[\"ID_person\"] == i])\n",
    "#  При помощи функции insert добавляем это лист в конец таблицы и преобразовываем при помощи map\n",
    "people_copy2.insert(8, column = \"Количество Машин\", value=list(map(lambda x: x.shape[0], col_of_cars)))\n",
    "people_copy2.to_csv(\"people_stage2.csv\",index=False)"
   ]
  },
  {
   "cell_type": "code",
   "execution_count": 4,
   "metadata": {
    "pycharm": {
     "is_executing": true
    }
   },
   "outputs": [],
   "source": [
    "# 3-Задание\n",
    "\n",
    "people_copy3 = pd.read_csv(\"people_stage2.csv\")\n",
    "cars_copy3 = pd.read_csv(\"cars_stage1.csv\")\n",
    "\n",
    "age_people = list()\n",
    "for i in cars_copy3.ID_person.values:\n",
    "    \n",
    "   age_people.append(np.sum(people_copy3[people_copy3[\"ID\"]==i].Age.values))\n",
    "\n",
    "cars_copy3.insert(5, column = \"Возраст\", value=pd.Series(age_people))\n",
    "cars_copy3 = cars_copy3.sort_values([\"Возраст\"])\n",
    "cars_copy3 = cars_copy3.drop('Возраст',1)\n",
    "cars_copy3.to_csv(\"cars_stage3.csv\",header=False,index=True)"
   ]
  },
  {
   "cell_type": "code",
   "execution_count": 5,
   "metadata": {
    "pycharm": {
     "is_executing": true
    }
   },
   "outputs": [],
   "source": [
    "# 4-Задание\n",
    "# Записываем в переменные Датафреймы полученные из предыдущего пункта\n",
    "people_copy4 = pd.read_csv(\"people_stage1.csv\")\n",
    "cars_copy4 = pd.read_csv(\"cars_stage1.csv\")\n",
    "appartments_copy4 = pd.read_csv(\"appartments_stage1.csv\")\n",
    "# Объявляем список в который в цикле будем заполнять количеством машин\n",
    "\n",
    "price_of_cars = list()\n",
    "price_of_app = list()\n",
    "\n",
    "for i in people_copy4.ID.values:\n",
    "    \n",
    "    price_of_cars.append(np.sum(cars_copy4[cars_copy4[\"ID_person\"]==i].Price.values))\n",
    "    price_of_app.append(np.sum(appartments_copy4[appartments_copy4[\"ID_person\"] == i].Price.values))\n",
    "    \n",
    "people_copy4.insert(8, column = \"Цена на машины\", value=pd.Series(price_of_cars))\n",
    "people_copy4.insert(9, column = \"Цена на квартиры\", value = pd.Series(price_of_app))\n",
    "\n",
    "people_copy4['Сумма имущества'] = people_copy4['Цена на машины'] + people_copy4['Цена на квартиры']\n",
    "people_copy4=people_copy4.loc[((people_copy4.Sex == 'м') & (people_copy4.Age >= 60))|((people_copy4.Sex == 'ж')&(people_copy4.Age >= 55))].copy()\n",
    "people_copy4=(people_copy4['Сумма имущества'].sum()/people_copy4['ID'].count()).copy()\n",
    "average=pd.Series(people_copy4)\n",
    "average.to_csv(\"average_value_stage4.csv\",header=False,index=False)\n"
   ]
  },
  {
   "cell_type": "code",
   "execution_count": 8,
   "metadata": {
    "pycharm": {
     "is_executing": true
    }
   },
   "outputs": [],
   "source": [
    "# 5-Задание\n",
    "people_copy5 = pd.read_csv(\"people_stage2.csv\")\n",
    "cars_copy5 = pd.read_csv(\"cars_stage1.csv\")\n",
    "\n",
    "cars_copy5 = cars_copy5.drop(['ID','Power','Price'],1)\n",
    "\n",
    "sex = list()\n",
    "prof = list()\n",
    "salary = list()\n",
    "\n",
    "for i in cars_copy5.ID_person.values:\n",
    "    sex.append(np.sum(people_copy5[people_copy5[\"ID\"]==i].Sex.values))\n",
    "    prof.append(np.sum(people_copy5[people_copy5[\"ID\"]==i].Profession.values))\n",
    "    salary.append(np.sum(people_copy5[people_copy5[\"ID\"] == i].Salary.values))\n",
    "    \n",
    "cars_copy5.insert(0, column = \"Sex\", value=pd.Series(sex))\n",
    "cars_copy5.insert(1, column = \"Profession\", value=pd.Series(prof))\n",
    "cars_copy5.insert(4, column = \"Salary\", value=pd.Series(salary))    \n",
    "cars_copy5 = cars_copy5.drop(['ID_person'],1)\n",
    "cars_copy5 = cars_copy5.groupby(['Sex','Profession','Model']).max()\n",
    "\n",
    "cars_copy5.to_csv(\"salary_stage5.csv\")\n"
   ]
  },
  {
   "cell_type": "code",
   "execution_count": null,
   "metadata": {},
   "outputs": [],
   "source": []
  }
 ],
 "metadata": {
  "kernelspec": {
   "display_name": "Python 3",
   "language": "python",
   "name": "python3"
  },
  "language_info": {
   "codemirror_mode": {
    "name": "ipython",
    "version": 3
   },
   "file_extension": ".py",
   "mimetype": "text/x-python",
   "name": "python",
   "nbconvert_exporter": "python",
   "pygments_lexer": "ipython3",
   "version": "3.8.1"
  }
 },
 "nbformat": 4,
 "nbformat_minor": 1
}
